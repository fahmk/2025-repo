{
  "metadata": {
    "kernelspec": {
      "name": "python",
      "display_name": "Python (Pyodide)",
      "language": "python"
    },
    "language_info": {
      "codemirror_mode": {
        "name": "python",
        "version": 3
      },
      "file_extension": ".py",
      "mimetype": "text/x-python",
      "name": "python",
      "nbconvert_exporter": "python",
      "pygments_lexer": "ipython3",
      "version": "3.8"
    }
  },
  "nbformat_minor": 5,
  "nbformat": 4,
  "cells": [
    {
      "id": "78317b21-f566-4864-862f-3a054d34598c",
      "cell_type": "code",
      "source": "# Patient details and dosage calculation\n\n# Patient's weight in kg\npatient_weight_kg = 12  \n\n# Prescribed dosage in mg per kg per day\ndosage_mg_per_kg_per_day = 25  \n\n# Calculate the total daily dosage\ntotal_daily_dosage_mg = patient_weight_kg * dosage_mg_per_kg_per_day  \n\n# Calculate the single dose (medication is given in 2 doses per day)\nsingle_dose_mg = total_daily_dosage_mg / 2  \n\n# Calculate the total weekly dosage (7 days)\ntotal_weekly_dosage_mg = total_daily_dosage_mg * 7  \n\n# Step 6: Print a formatted summary\n\nprint(f\"Patient weight: {patient_weight_kg} kg\")\nprint(f\"Prescribed dosage: {dosage_mg_per_kg_per_day} mg/kg/day\")\nprint(f\"Total daily dosage: {total_daily_dosage_mg} mg/day\")\nprint(f\"Single dose (2 per day): {single_dose_mg} mg/dose\")\nprint(f\"Total weekly dosage: {total_weekly_dosage_mg} mg/week\")\n",
      "metadata": {
        "trusted": true
      },
      "outputs": [
        {
          "name": "stdout",
          "output_type": "stream",
          "text": "Patient weight: 12 kg\nPrescribed dosage: 25 mg/kg/day\nTotal daily dosage: 300 mg/day\nSingle dose (2 per day): 150.0 mg/dose\nTotal weekly dosage: 2100 mg/week\n"
        }
      ],
      "execution_count": 1
    },
    {
      "id": "78c52a94-821a-4664-a4d8-30f1c17521f2",
      "cell_type": "code",
      "source": "# Program to greet user and calculate age\n\n#  Prompt the user for their first name\nfirst_name = input(\"Enter your first name: \")\n\n# Prompt the user for their year of birth\nyear_of_birth = int(input(\"Enter your year of birth: \"))\n\n# Calculate the user's age (current year is 2025)\ncurrent_year = 2025\nage = current_year - year_of_birth\n\n#  Print personalized welcome message\nprint(f\"\\nWelcome, {first_name}! You are approximately {age} years old.\")\n\n# Print a general health tip\nprint(\" Health Tip: Drink plenty of water and get enough sleep every day!\")\n",
      "metadata": {
        "trusted": true
      },
      "outputs": [
        {
          "output_type": "stream",
          "name": "stdin",
          "text": "Enter your first name:  fahm\nEnter your year of birth:  2010\n"
        },
        {
          "name": "stdout",
          "output_type": "stream",
          "text": "\nWelcome, fahm! You are approximately 15 years old.\n Health Tip: Drink plenty of water and get enough sleep every day!\n"
        }
      ],
      "execution_count": 2
    },
    {
      "id": "bf286939-da60-4d25-9bdf-4f2a9a5b414a",
      "cell_type": "code",
      "source": "",
      "metadata": {
        "trusted": true
      },
      "outputs": [],
      "execution_count": null
    },
    {
      "id": "c9b3f555-e168-4012-8db6-9ba4c81f53ac",
      "cell_type": "code",
      "source": "",
      "metadata": {
        "trusted": true
      },
      "outputs": [],
      "execution_count": null
    }
  ]
}